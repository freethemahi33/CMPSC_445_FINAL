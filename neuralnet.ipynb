{
 "cells": [
  {
   "cell_type": "code",
   "execution_count": 13,
   "outputs": [],
   "source": [
    "import pandas as pd\n",
    "import numpy as np\n",
    "import torch\n",
    "from torch.utils.data import TensorDataset, DataLoader\n",
    "import torch.nn as nn\n",
    "import torch.optim as optim\n",
    "from sklearn.model_selection import train_test_split"
   ],
   "metadata": {
    "collapsed": false,
    "pycharm": {
     "name": "#%%\n"
    }
   }
  },
  {
   "cell_type": "code",
   "execution_count": 14,
   "outputs": [],
   "source": [
    "df = pd.read_csv('encoded_df.csv')"
   ],
   "metadata": {
    "collapsed": false,
    "pycharm": {
     "name": "#%%\n"
    }
   }
  },
  {
   "cell_type": "code",
   "execution_count": 15,
   "outputs": [],
   "source": [
    "# Define the features and target\n",
    "features = df.drop('total_sales_price', axis=1).values\n",
    "target = df['total_sales_price'].values"
   ],
   "metadata": {
    "collapsed": false,
    "pycharm": {
     "name": "#%%\n"
    }
   }
  },
  {
   "cell_type": "code",
   "execution_count": 16,
   "outputs": [],
   "source": [
    "# Split the data into train and test sets\n",
    "X_train, X_test, y_train, y_test = train_test_split(features, target, test_size=0.2, random_state=42)"
   ],
   "metadata": {
    "collapsed": false,
    "pycharm": {
     "name": "#%%\n"
    }
   }
  },
  {
   "cell_type": "code",
   "execution_count": 17,
   "outputs": [],
   "source": [
    "# Convert the data to PyTorch tensors\n",
    "X_train_tensor = torch.from_numpy(X_train).float()\n",
    "y_train_tensor = torch.from_numpy(y_train).float()\n",
    "X_test_tensor = torch.from_numpy(X_test).float()\n",
    "y_test_tensor = torch.from_numpy(y_test).float()"
   ],
   "metadata": {
    "collapsed": false,
    "pycharm": {
     "name": "#%%\n"
    }
   }
  },
  {
   "cell_type": "code",
   "execution_count": 18,
   "outputs": [],
   "source": [
    "# Define the neural network architecture\n",
    "class Net(nn.Module):\n",
    "    def __init__(self):\n",
    "        super(Net, self).__init__()\n",
    "        self.fc1 = nn.Linear(X_train.shape[1], 64)\n",
    "        self.fc2 = nn.Linear(64, 32)\n",
    "        self.fc3 = nn.Linear(32, 1)\n",
    "\n",
    "    def forward(self, x):\n",
    "        x = torch.relu(self.fc1(x))\n",
    "        x = torch.relu(self.fc2(x))\n",
    "        x = self.fc3(x)\n",
    "        return x"
   ],
   "metadata": {
    "collapsed": false,
    "pycharm": {
     "name": "#%%\n"
    }
   }
  },
  {
   "cell_type": "code",
   "execution_count": 19,
   "outputs": [],
   "source": [
    "# Create an instance of the neural network\n",
    "net = Net()\n",
    "\n",
    "# Define the loss function and optimizer\n",
    "criterion = nn.MSELoss()\n",
    "optimizer = optim.Adam(net.parameters(), lr=0.001)"
   ],
   "metadata": {
    "collapsed": false,
    "pycharm": {
     "name": "#%%\n"
    }
   }
  },
  {
   "cell_type": "code",
   "execution_count": 20,
   "outputs": [],
   "source": [
    "# Define the training loop\n",
    "def train_loop(dataloader, model, loss_fn, optimizer):\n",
    "    size = len(dataloader.dataset)\n",
    "    for batch, (X, y) in enumerate(dataloader):\n",
    "        optimizer.zero_grad()\n",
    "        pred = model(X)\n",
    "        loss = loss_fn(pred.squeeze(), y)\n",
    "        loss.backward()\n",
    "        optimizer.step()\n",
    "        if batch % 100 == 0:\n",
    "            loss, current = loss.item(), batch * len(X)\n",
    "            print(f\"loss: {loss:>7f}  [{current:>5d}/{size:>5d}]\")"
   ],
   "metadata": {
    "collapsed": false,
    "pycharm": {
     "name": "#%%\n"
    }
   }
  },
  {
   "cell_type": "code",
   "execution_count": 21,
   "outputs": [],
   "source": [
    "# Define the testing loop\n",
    "def test_loop(dataloader, model, loss_fn):\n",
    "    size = len(dataloader.dataset)\n",
    "    num_batches = len(dataloader)\n",
    "    test_loss = 0\n",
    "    with torch.no_grad():\n",
    "        for X, y in dataloader:\n",
    "            pred = model(X)\n",
    "            test_loss += loss_fn(pred.squeeze(), y).item()\n",
    "    test_loss /= num_batches\n",
    "    print(f\"Avg loss: {test_loss:>8f} \\n\")"
   ],
   "metadata": {
    "collapsed": false,
    "pycharm": {
     "name": "#%%\n"
    }
   }
  },
  {
   "cell_type": "code",
   "execution_count": 22,
   "outputs": [],
   "source": [
    "# Define the training and testing data loaders\n",
    "train_data = TensorDataset(X_train_tensor, y_train_tensor)\n",
    "train_loader = DataLoader(train_data, batch_size=64, shuffle=True)\n",
    "\n",
    "test_data = TensorDataset(X_test_tensor, y_test_tensor)\n",
    "test_loader = DataLoader(test_data, batch_size=64, shuffle=False)"
   ],
   "metadata": {
    "collapsed": false,
    "pycharm": {
     "name": "#%%\n"
    }
   }
  },
  {
   "cell_type": "code",
   "execution_count": 23,
   "outputs": [
    {
     "name": "stdout",
     "output_type": "stream",
     "text": [
      "Epoch 1\n",
      "-------------------------------\n",
      "loss: 2959529984.000000  [    0/89299]\n",
      "loss: 78443984.000000  [ 6400/89299]\n",
      "loss: 123992592.000000  [12800/89299]\n",
      "loss: 3124806912.000000  [19200/89299]\n",
      "loss: 37214112.000000  [25600/89299]\n",
      "loss: 83299448.000000  [32000/89299]\n",
      "loss: 17646776.000000  [38400/89299]\n",
      "loss: 3065822720.000000  [44800/89299]\n",
      "loss: 2002971648.000000  [51200/89299]\n",
      "loss: 44293656.000000  [57600/89299]\n",
      "loss: 14049783808.000000  [64000/89299]\n",
      "loss: 77108600.000000  [70400/89299]\n",
      "loss: 758720512.000000  [76800/89299]\n",
      "loss: 71938952.000000  [83200/89299]\n",
      "Avg loss: 413537919.530086 \n",
      "\n",
      "Epoch 2\n",
      "-------------------------------\n",
      "loss: 23753980.000000  [    0/89299]\n",
      "loss: 105805024.000000  [ 6400/89299]\n",
      "loss: 242497536.000000  [12800/89299]\n",
      "loss: 56001112.000000  [19200/89299]\n",
      "loss: 58420940.000000  [25600/89299]\n",
      "loss: 390867552.000000  [32000/89299]\n",
      "loss: 329655904.000000  [38400/89299]\n",
      "loss: 22796316.000000  [44800/89299]\n",
      "loss: 256348032.000000  [51200/89299]\n",
      "loss: 280089440.000000  [57600/89299]\n",
      "loss: 37862680.000000  [64000/89299]\n",
      "loss: 35003796.000000  [70400/89299]\n",
      "loss: 18011734.000000  [76800/89299]\n",
      "loss: 6954957312.000000  [83200/89299]\n",
      "Avg loss: 315972089.292264 \n",
      "\n",
      "Epoch 3\n",
      "-------------------------------\n",
      "loss: 185781552.000000  [    0/89299]\n",
      "loss: 44802040.000000  [ 6400/89299]\n",
      "loss: 21759626.000000  [12800/89299]\n",
      "loss: 1679412864.000000  [19200/89299]\n",
      "loss: 26909640.000000  [25600/89299]\n",
      "loss: 226530176.000000  [32000/89299]\n",
      "loss: 2248777216.000000  [38400/89299]\n",
      "loss: 56069128.000000  [44800/89299]\n",
      "loss: 1205624960.000000  [51200/89299]\n",
      "loss: 84492024.000000  [57600/89299]\n",
      "loss: 25380148.000000  [64000/89299]\n",
      "loss: 18135212.000000  [70400/89299]\n",
      "loss: 18952834.000000  [76800/89299]\n",
      "loss: 25764980.000000  [83200/89299]\n",
      "Avg loss: 219249395.123926 \n",
      "\n",
      "Epoch 4\n",
      "-------------------------------\n",
      "loss: 38043668.000000  [    0/89299]\n",
      "loss: 104678720.000000  [ 6400/89299]\n",
      "loss: 14268797.000000  [12800/89299]\n",
      "loss: 1948550656.000000  [19200/89299]\n",
      "loss: 20353170.000000  [25600/89299]\n",
      "loss: 968610560.000000  [32000/89299]\n",
      "loss: 20883394.000000  [38400/89299]\n",
      "loss: 137971472.000000  [44800/89299]\n",
      "loss: 26674738.000000  [51200/89299]\n",
      "loss: 14536666.000000  [57600/89299]\n",
      "loss: 19138380.000000  [64000/89299]\n",
      "loss: 15295853.000000  [70400/89299]\n",
      "loss: 61963624.000000  [76800/89299]\n",
      "loss: 1693553792.000000  [83200/89299]\n",
      "Avg loss: 165941823.712393 \n",
      "\n",
      "Epoch 5\n",
      "-------------------------------\n",
      "loss: 7402185.000000  [    0/89299]\n",
      "loss: 30917992.000000  [ 6400/89299]\n",
      "loss: 361524800.000000  [12800/89299]\n",
      "loss: 136994000.000000  [19200/89299]\n",
      "loss: 849394496.000000  [25600/89299]\n",
      "loss: 6219608.000000  [32000/89299]\n",
      "loss: 11972242.000000  [38400/89299]\n",
      "loss: 13462773.000000  [44800/89299]\n",
      "loss: 163984368.000000  [51200/89299]\n",
      "loss: 6776004.500000  [57600/89299]\n",
      "loss: 36713860.000000  [64000/89299]\n",
      "loss: 4681986.000000  [70400/89299]\n",
      "loss: 20845648.000000  [76800/89299]\n",
      "loss: 85917216.000000  [83200/89299]\n",
      "Avg loss: 147105035.705946 \n",
      "\n",
      "Epoch 6\n",
      "-------------------------------\n",
      "loss: 3717349.500000  [    0/89299]\n",
      "loss: 11554908.000000  [ 6400/89299]\n",
      "loss: 244337984.000000  [12800/89299]\n",
      "loss: 15717160.000000  [19200/89299]\n",
      "loss: 20868472.000000  [25600/89299]\n",
      "loss: 6929043.000000  [32000/89299]\n",
      "loss: 18451358.000000  [38400/89299]\n",
      "loss: 9930726.000000  [44800/89299]\n",
      "loss: 30868524.000000  [51200/89299]\n",
      "loss: 6128960.000000  [57600/89299]\n",
      "loss: 224679968.000000  [64000/89299]\n",
      "loss: 9198339.000000  [70400/89299]\n",
      "loss: 3281634.000000  [76800/89299]\n",
      "loss: 8495458.000000  [83200/89299]\n",
      "Avg loss: 140734960.464183 \n",
      "\n",
      "Epoch 7\n",
      "-------------------------------\n",
      "loss: 28198208.000000  [    0/89299]\n",
      "loss: 177898496.000000  [ 6400/89299]\n",
      "loss: 25098548.000000  [12800/89299]\n",
      "loss: 9935757.000000  [19200/89299]\n",
      "loss: 666925376.000000  [25600/89299]\n",
      "loss: 21451322.000000  [32000/89299]\n",
      "loss: 9241207.000000  [38400/89299]\n",
      "loss: 20171534.000000  [44800/89299]\n",
      "loss: 41868956.000000  [51200/89299]\n",
      "loss: 573236224.000000  [57600/89299]\n",
      "loss: 11941150.000000  [64000/89299]\n",
      "loss: 59851932.000000  [70400/89299]\n",
      "loss: 137123264.000000  [76800/89299]\n",
      "loss: 21113050.000000  [83200/89299]\n",
      "Avg loss: 138743005.502149 \n",
      "\n",
      "Epoch 8\n",
      "-------------------------------\n",
      "loss: 10817578.000000  [    0/89299]\n",
      "loss: 2180723968.000000  [ 6400/89299]\n",
      "loss: 29426844.000000  [12800/89299]\n",
      "loss: 6097078.000000  [19200/89299]\n",
      "loss: 32388780.000000  [25600/89299]\n",
      "loss: 288670880.000000  [32000/89299]\n",
      "loss: 144368352.000000  [38400/89299]\n",
      "loss: 180869056.000000  [44800/89299]\n",
      "loss: 333208128.000000  [51200/89299]\n",
      "loss: 32770292.000000  [57600/89299]\n",
      "loss: 28510346.000000  [64000/89299]\n",
      "loss: 30394020.000000  [70400/89299]\n",
      "loss: 9132765.000000  [76800/89299]\n",
      "loss: 13223947.000000  [83200/89299]\n",
      "Avg loss: 135642225.601361 \n",
      "\n",
      "Epoch 9\n",
      "-------------------------------\n",
      "loss: 5399783.000000  [    0/89299]\n",
      "loss: 6101558.000000  [ 6400/89299]\n",
      "loss: 30089450.000000  [12800/89299]\n",
      "loss: 20528018.000000  [19200/89299]\n",
      "loss: 57616872.000000  [25600/89299]\n",
      "loss: 40792616.000000  [32000/89299]\n",
      "loss: 191635088.000000  [38400/89299]\n",
      "loss: 24367354.000000  [44800/89299]\n",
      "loss: 11270838.000000  [51200/89299]\n",
      "loss: 198885888.000000  [57600/89299]\n",
      "loss: 4855792128.000000  [64000/89299]\n",
      "loss: 24885454.000000  [70400/89299]\n",
      "loss: 349690848.000000  [76800/89299]\n",
      "loss: 13146247.000000  [83200/89299]\n",
      "Avg loss: 134389187.321275 \n",
      "\n",
      "Epoch 10\n",
      "-------------------------------\n",
      "loss: 54256776.000000  [    0/89299]\n",
      "loss: 23627292.000000  [ 6400/89299]\n",
      "loss: 9988907.000000  [12800/89299]\n",
      "loss: 14898077.000000  [19200/89299]\n",
      "loss: 73644512.000000  [25600/89299]\n",
      "loss: 5410439.500000  [32000/89299]\n",
      "loss: 87249152.000000  [38400/89299]\n",
      "loss: 46359744.000000  [44800/89299]\n",
      "loss: 192308096.000000  [51200/89299]\n",
      "loss: 9163561.000000  [57600/89299]\n",
      "loss: 131749544.000000  [64000/89299]\n",
      "loss: 13465500.000000  [70400/89299]\n",
      "loss: 1101847552.000000  [76800/89299]\n",
      "loss: 45888336.000000  [83200/89299]\n",
      "Avg loss: 132993562.590616 \n",
      "\n",
      "Done!\n"
     ]
    }
   ],
   "source": [
    "# Train the model\n",
    "epochs = 10\n",
    "for t in range(epochs):\n",
    "    print(f\"Epoch {t+1}\\n-------------------------------\")\n",
    "    train_loop(train_loader, net, criterion, optimizer)\n",
    "    test_loop(test_loader, net, criterion)\n",
    "print(\"Done!\")"
   ],
   "metadata": {
    "collapsed": false,
    "pycharm": {
     "name": "#%%\n"
    }
   }
  }
 ],
 "metadata": {
  "kernelspec": {
   "display_name": "Python 3",
   "language": "python",
   "name": "python3"
  },
  "language_info": {
   "codemirror_mode": {
    "name": "ipython",
    "version": 2
   },
   "file_extension": ".py",
   "mimetype": "text/x-python",
   "name": "python",
   "nbconvert_exporter": "python",
   "pygments_lexer": "ipython2",
   "version": "2.7.6"
  }
 },
 "nbformat": 4,
 "nbformat_minor": 0
}