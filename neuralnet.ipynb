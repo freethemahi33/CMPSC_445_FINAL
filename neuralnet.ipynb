{
 "cells": [
  {
   "cell_type": "code",
   "execution_count": 1,
   "outputs": [],
   "source": [
    "import pandas as pd\n",
    "import numpy as np\n",
    "import torch\n",
    "from torch.utils.data import TensorDataset, DataLoader\n",
    "import torch.nn as nn\n",
    "import torch.optim as optim\n",
    "from sklearn.model_selection import train_test_split"
   ],
   "metadata": {
    "collapsed": false,
    "pycharm": {
     "name": "#%%\n"
    }
   }
  },
  {
   "cell_type": "code",
   "execution_count": 2,
   "outputs": [],
   "source": [
    "df = pd.read_csv('encoded_df.csv')"
   ],
   "metadata": {
    "collapsed": false,
    "pycharm": {
     "name": "#%%\n"
    }
   }
  },
  {
   "cell_type": "code",
   "execution_count": 3,
   "outputs": [],
   "source": [
    "# Define the features and target\n",
    "features = df.drop('total_sales_price', axis=1).values\n",
    "target = df['total_sales_price'].values"
   ],
   "metadata": {
    "collapsed": false,
    "pycharm": {
     "name": "#%%\n"
    }
   }
  },
  {
   "cell_type": "code",
   "execution_count": 4,
   "outputs": [],
   "source": [
    "# Split the data into train and test sets\n",
    "X_train, X_test, y_train, y_test = train_test_split(features, target, test_size=0.2, random_state=42)"
   ],
   "metadata": {
    "collapsed": false,
    "pycharm": {
     "name": "#%%\n"
    }
   }
  },
  {
   "cell_type": "code",
   "execution_count": 5,
   "outputs": [],
   "source": [
    "# Convert the data to PyTorch tensors\n",
    "X_train_tensor = torch.from_numpy(X_train).float()\n",
    "y_train_tensor = torch.from_numpy(y_train).float()\n",
    "X_test_tensor = torch.from_numpy(X_test).float()\n",
    "y_test_tensor = torch.from_numpy(y_test).float()"
   ],
   "metadata": {
    "collapsed": false,
    "pycharm": {
     "name": "#%%\n"
    }
   }
  },
  {
   "cell_type": "code",
   "execution_count": 6,
   "outputs": [],
   "source": [
    "# Define the neural network architecture\n",
    "class Net(nn.Module):\n",
    "    def __init__(self):\n",
    "        super(Net, self).__init__()\n",
    "        self.fc1 = nn.Linear(X_train.shape[1], 64)\n",
    "        self.fc2 = nn.Linear(64, 32)\n",
    "        self.fc3 = nn.Linear(32, 1)\n",
    "\n",
    "    def forward(self, x):\n",
    "        x = torch.relu(self.fc1(x))\n",
    "        x = torch.relu(self.fc2(x))\n",
    "        x = self.fc3(x)\n",
    "        return x"
   ],
   "metadata": {
    "collapsed": false,
    "pycharm": {
     "name": "#%%\n"
    }
   }
  },
  {
   "cell_type": "code",
   "execution_count": 7,
   "outputs": [],
   "source": [
    "# Create an instance of the neural network\n",
    "net = Net()\n",
    "\n",
    "# Define the loss function and optimizer\n",
    "criterion = nn.MSELoss()\n",
    "optimizer = optim.Adam(net.parameters(), lr=0.001)"
   ],
   "metadata": {
    "collapsed": false,
    "pycharm": {
     "name": "#%%\n"
    }
   }
  },
  {
   "cell_type": "code",
   "execution_count": 8,
   "outputs": [],
   "source": [
    "# Define the training loop\n",
    "def train_loop(dataloader, model, loss_fn, optimizer):\n",
    "    size = len(dataloader.dataset)\n",
    "    for batch, (X, y) in enumerate(dataloader):\n",
    "        optimizer.zero_grad()\n",
    "        pred = model(X)\n",
    "        loss = loss_fn(pred.squeeze(), y)\n",
    "        loss.backward()\n",
    "        optimizer.step()\n",
    "        if batch % 100 == 0:\n",
    "            loss, current = loss.item(), batch * len(X)\n",
    "            print(f\"loss: {loss:>7f}  [{current:>5d}/{size:>5d}]\")"
   ],
   "metadata": {
    "collapsed": false,
    "pycharm": {
     "name": "#%%\n"
    }
   }
  },
  {
   "cell_type": "code",
   "execution_count": 9,
   "outputs": [],
   "source": [
    "# Define the testing loop\n",
    "def test_loop(dataloader, model, loss_fn):\n",
    "    size = len(dataloader.dataset)\n",
    "    num_batches = len(dataloader)\n",
    "    test_loss = 0\n",
    "    with torch.no_grad():\n",
    "        for X, y in dataloader:\n",
    "            pred = model(X)\n",
    "            test_loss += loss_fn(pred.squeeze(), y).item()\n",
    "    test_loss /= num_batches\n",
    "    print(f\"Avg loss: {test_loss:>8f} \\n\")"
   ],
   "metadata": {
    "collapsed": false,
    "pycharm": {
     "name": "#%%\n"
    }
   }
  },
  {
   "cell_type": "code",
   "execution_count": 10,
   "outputs": [],
   "source": [
    "# Define the training and testing data loaders\n",
    "train_data = TensorDataset(X_train_tensor, y_train_tensor)\n",
    "train_loader = DataLoader(train_data, batch_size=64, shuffle=True)\n",
    "\n",
    "test_data = TensorDataset(X_test_tensor, y_test_tensor)\n",
    "test_loader = DataLoader(test_data, batch_size=64, shuffle=False)"
   ],
   "metadata": {
    "collapsed": false,
    "pycharm": {
     "name": "#%%\n"
    }
   }
  },
  {
   "cell_type": "code",
   "execution_count": 11,
   "outputs": [
    {
     "name": "stdout",
     "output_type": "stream",
     "text": [
      "Epoch 1\n",
      "-------------------------------\n",
      "loss: 369477120.000000  [    0/126904]\n",
      "loss: 3128015872.000000  [ 6400/126904]\n",
      "loss: 267920848.000000  [12800/126904]\n",
      "loss: 433742208.000000  [19200/126904]\n",
      "loss: 443510592.000000  [25600/126904]\n",
      "loss: 252856368.000000  [32000/126904]\n",
      "loss: 2230587392.000000  [38400/126904]\n",
      "loss: 30249394.000000  [44800/126904]\n",
      "loss: 647718656.000000  [51200/126904]\n",
      "loss: 81602328.000000  [57600/126904]\n",
      "loss: 583979584.000000  [64000/126904]\n",
      "loss: 59397504.000000  [70400/126904]\n",
      "loss: 444373056.000000  [76800/126904]\n",
      "loss: 436533152.000000  [83200/126904]\n",
      "loss: 33269876.000000  [89600/126904]\n",
      "loss: 61146048.000000  [96000/126904]\n",
      "loss: 51473400.000000  [102400/126904]\n",
      "loss: 199533584.000000  [108800/126904]\n",
      "loss: 476832576.000000  [115200/126904]\n",
      "loss: 225277152.000000  [121600/126904]\n",
      "Avg loss: 544576092.141129 \n",
      "\n",
      "Epoch 2\n",
      "-------------------------------\n",
      "loss: 35557108.000000  [    0/126904]\n",
      "loss: 56725896.000000  [ 6400/126904]\n",
      "loss: 170242384.000000  [12800/126904]\n",
      "loss: 86959920.000000  [19200/126904]\n",
      "loss: 1199005952.000000  [25600/126904]\n",
      "loss: 69797464.000000  [32000/126904]\n",
      "loss: 38895948.000000  [38400/126904]\n",
      "loss: 41581160.000000  [44800/126904]\n",
      "loss: 251824288.000000  [51200/126904]\n",
      "loss: 42391944.000000  [57600/126904]\n",
      "loss: 25949820.000000  [64000/126904]\n",
      "loss: 134889792.000000  [70400/126904]\n",
      "loss: 28330212.000000  [76800/126904]\n",
      "loss: 24714518.000000  [83200/126904]\n",
      "loss: 33607228.000000  [89600/126904]\n",
      "loss: 306139680.000000  [96000/126904]\n",
      "loss: 5842990592.000000  [102400/126904]\n",
      "loss: 1649897856.000000  [108800/126904]\n",
      "loss: 339096640.000000  [115200/126904]\n",
      "loss: 18655152.000000  [121600/126904]\n",
      "Avg loss: 367471195.268145 \n",
      "\n",
      "Epoch 3\n",
      "-------------------------------\n",
      "loss: 38862084.000000  [    0/126904]\n",
      "loss: 250613376.000000  [ 6400/126904]\n",
      "loss: 494174816.000000  [12800/126904]\n",
      "loss: 27751384.000000  [19200/126904]\n",
      "loss: 23682516.000000  [25600/126904]\n",
      "loss: 59103856.000000  [32000/126904]\n",
      "loss: 173313280.000000  [38400/126904]\n",
      "loss: 23626648.000000  [44800/126904]\n",
      "loss: 39646092.000000  [51200/126904]\n",
      "loss: 29592414.000000  [57600/126904]\n",
      "loss: 37336992.000000  [64000/126904]\n",
      "loss: 47874288.000000  [70400/126904]\n",
      "loss: 24736916.000000  [76800/126904]\n",
      "loss: 15002233.000000  [83200/126904]\n",
      "loss: 6530253.500000  [89600/126904]\n",
      "loss: 348376672.000000  [96000/126904]\n",
      "loss: 12850259.000000  [102400/126904]\n",
      "loss: 28628382.000000  [108800/126904]\n",
      "loss: 27726580.000000  [115200/126904]\n",
      "loss: 13075687.000000  [121600/126904]\n",
      "Avg loss: 252160386.410030 \n",
      "\n",
      "Epoch 4\n",
      "-------------------------------\n",
      "loss: 14900149.000000  [    0/126904]\n",
      "loss: 204255664.000000  [ 6400/126904]\n",
      "loss: 10078652.000000  [12800/126904]\n",
      "loss: 202336880.000000  [19200/126904]\n",
      "loss: 10153411.000000  [25600/126904]\n",
      "loss: 18922978.000000  [32000/126904]\n",
      "loss: 27171770.000000  [38400/126904]\n",
      "loss: 19331910.000000  [44800/126904]\n",
      "loss: 86658096.000000  [51200/126904]\n",
      "loss: 363138496.000000  [57600/126904]\n",
      "loss: 17614590.000000  [64000/126904]\n",
      "loss: 908177728.000000  [70400/126904]\n",
      "loss: 287395360.000000  [76800/126904]\n",
      "loss: 11342280.000000  [83200/126904]\n",
      "loss: 6678247424.000000  [89600/126904]\n",
      "loss: 33020854.000000  [96000/126904]\n",
      "loss: 24103594.000000  [102400/126904]\n",
      "loss: 394084992.000000  [108800/126904]\n",
      "loss: 3886778624.000000  [115200/126904]\n",
      "loss: 247547344.000000  [121600/126904]\n",
      "Avg loss: 208098201.396169 \n",
      "\n",
      "Epoch 5\n",
      "-------------------------------\n",
      "loss: 102917048.000000  [    0/126904]\n",
      "loss: 96353720.000000  [ 6400/126904]\n",
      "loss: 9485207.000000  [12800/126904]\n",
      "loss: 119229808.000000  [19200/126904]\n",
      "loss: 47649012.000000  [25600/126904]\n",
      "loss: 29494870.000000  [32000/126904]\n",
      "loss: 52418800.000000  [38400/126904]\n",
      "loss: 44066772.000000  [44800/126904]\n",
      "loss: 173373456.000000  [51200/126904]\n",
      "loss: 6024199.000000  [57600/126904]\n",
      "loss: 10057715.000000  [64000/126904]\n",
      "loss: 2181861376.000000  [70400/126904]\n",
      "loss: 1033446592.000000  [76800/126904]\n",
      "loss: 5121899.000000  [83200/126904]\n",
      "loss: 23606076.000000  [89600/126904]\n",
      "loss: 61674592.000000  [96000/126904]\n",
      "loss: 162947920.000000  [102400/126904]\n",
      "loss: 43957744.000000  [108800/126904]\n",
      "loss: 5402300.500000  [115200/126904]\n",
      "loss: 286985088.000000  [121600/126904]\n",
      "Avg loss: 190434566.907132 \n",
      "\n",
      "Epoch 6\n",
      "-------------------------------\n",
      "loss: 41968296.000000  [    0/126904]\n",
      "loss: 111455832.000000  [ 6400/126904]\n",
      "loss: 211930128.000000  [12800/126904]\n",
      "loss: 8639990.000000  [19200/126904]\n",
      "loss: 141818960.000000  [25600/126904]\n",
      "loss: 31250022.000000  [32000/126904]\n",
      "loss: 24720438.000000  [38400/126904]\n",
      "loss: 2571342.750000  [44800/126904]\n",
      "loss: 524672192.000000  [51200/126904]\n",
      "loss: 57841884.000000  [57600/126904]\n",
      "loss: 196300160.000000  [64000/126904]\n",
      "loss: 1178117504.000000  [70400/126904]\n",
      "loss: 1281505.500000  [76800/126904]\n",
      "loss: 4143797.000000  [83200/126904]\n",
      "loss: 57380444.000000  [89600/126904]\n",
      "loss: 389558816.000000  [96000/126904]\n",
      "loss: 23667062.000000  [102400/126904]\n",
      "loss: 6903195.500000  [108800/126904]\n",
      "loss: 22964292.000000  [115200/126904]\n",
      "loss: 19498316.000000  [121600/126904]\n",
      "Avg loss: 180768221.216986 \n",
      "\n",
      "Epoch 7\n",
      "-------------------------------\n",
      "loss: 14887574.000000  [    0/126904]\n",
      "loss: 10176148.000000  [ 6400/126904]\n",
      "loss: 43481220.000000  [12800/126904]\n",
      "loss: 92220800.000000  [19200/126904]\n",
      "loss: 8631387.000000  [25600/126904]\n",
      "loss: 8150675.500000  [32000/126904]\n",
      "loss: 36724480.000000  [38400/126904]\n",
      "loss: 7395093.000000  [44800/126904]\n",
      "loss: 380011520.000000  [51200/126904]\n",
      "loss: 1810584.500000  [57600/126904]\n",
      "loss: 4323713.000000  [64000/126904]\n",
      "loss: 169736848.000000  [70400/126904]\n",
      "loss: 13321268.000000  [76800/126904]\n",
      "loss: 27944500.000000  [83200/126904]\n",
      "loss: 873033472.000000  [89600/126904]\n",
      "loss: 27623328.000000  [96000/126904]\n",
      "loss: 168489392.000000  [102400/126904]\n",
      "loss: 17052678.000000  [108800/126904]\n",
      "loss: 99238264.000000  [115200/126904]\n",
      "loss: 51316916.000000  [121600/126904]\n",
      "Avg loss: 174438921.742188 \n",
      "\n",
      "Epoch 8\n",
      "-------------------------------\n",
      "loss: 75927664.000000  [    0/126904]\n",
      "loss: 10684114.000000  [ 6400/126904]\n",
      "loss: 240506944.000000  [12800/126904]\n",
      "loss: 1908876.000000  [19200/126904]\n",
      "loss: 21625694.000000  [25600/126904]\n",
      "loss: 60514060.000000  [32000/126904]\n",
      "loss: 5048322.500000  [38400/126904]\n",
      "loss: 131982592.000000  [44800/126904]\n",
      "loss: 2510924.500000  [51200/126904]\n",
      "loss: 80982032.000000  [57600/126904]\n",
      "loss: 9901454.000000  [64000/126904]\n",
      "loss: 36654560.000000  [70400/126904]\n",
      "loss: 2366529792.000000  [76800/126904]\n",
      "loss: 70660856.000000  [83200/126904]\n",
      "loss: 13043137.000000  [89600/126904]\n",
      "loss: 12820264.000000  [96000/126904]\n",
      "loss: 19058684.000000  [102400/126904]\n",
      "loss: 50784592.000000  [108800/126904]\n",
      "loss: 13870490.000000  [115200/126904]\n",
      "loss: 48795392.000000  [121600/126904]\n",
      "Avg loss: 168529132.131048 \n",
      "\n",
      "Epoch 9\n",
      "-------------------------------\n",
      "loss: 29669082.000000  [    0/126904]\n",
      "loss: 43407256.000000  [ 6400/126904]\n",
      "loss: 18436932.000000  [12800/126904]\n",
      "loss: 23484120.000000  [19200/126904]\n",
      "loss: 42253872.000000  [25600/126904]\n",
      "loss: 7024951.500000  [32000/126904]\n",
      "loss: 311065056.000000  [38400/126904]\n",
      "loss: 19332836.000000  [44800/126904]\n",
      "loss: 28472576.000000  [51200/126904]\n",
      "loss: 62203376.000000  [57600/126904]\n",
      "loss: 8235450.500000  [64000/126904]\n",
      "loss: 20660390.000000  [70400/126904]\n",
      "loss: 445656320.000000  [76800/126904]\n",
      "loss: 16127643.000000  [83200/126904]\n",
      "loss: 17888970.000000  [89600/126904]\n",
      "loss: 43972496.000000  [96000/126904]\n",
      "loss: 4414738.500000  [102400/126904]\n",
      "loss: 12728171.000000  [108800/126904]\n",
      "loss: 3166478.250000  [115200/126904]\n",
      "loss: 2320706560.000000  [121600/126904]\n",
      "Avg loss: 164258287.996220 \n",
      "\n",
      "Epoch 10\n",
      "-------------------------------\n",
      "loss: 16937854.000000  [    0/126904]\n",
      "loss: 249949616.000000  [ 6400/126904]\n",
      "loss: 13739891.000000  [12800/126904]\n",
      "loss: 12064069.000000  [19200/126904]\n",
      "loss: 30996324.000000  [25600/126904]\n",
      "loss: 15720191.000000  [32000/126904]\n",
      "loss: 12710616.000000  [38400/126904]\n",
      "loss: 6865080.000000  [44800/126904]\n",
      "loss: 18197904.000000  [51200/126904]\n",
      "loss: 376306560.000000  [57600/126904]\n",
      "loss: 9108559.000000  [64000/126904]\n",
      "loss: 9898119.000000  [70400/126904]\n",
      "loss: 1381887360.000000  [76800/126904]\n",
      "loss: 25285974.000000  [83200/126904]\n",
      "loss: 17086264.000000  [89600/126904]\n",
      "loss: 4833216.000000  [96000/126904]\n",
      "loss: 28621552.000000  [102400/126904]\n",
      "loss: 1746869.875000  [108800/126904]\n",
      "loss: 3854084.500000  [115200/126904]\n",
      "loss: 5867606.500000  [121600/126904]\n",
      "Avg loss: 160546249.898438 \n",
      "\n",
      "Done!\n"
     ]
    }
   ],
   "source": [
    "# Train the model\n",
    "epochs = 10\n",
    "for t in range(epochs):\n",
    "    print(f\"Epoch {t+1}\\n-------------------------------\")\n",
    "    train_loop(train_loader, net, criterion, optimizer)\n",
    "    test_loop(test_loader, net, criterion)\n",
    "print(\"Done!\")"
   ],
   "metadata": {
    "collapsed": false,
    "pycharm": {
     "name": "#%%\n"
    }
   }
  }
 ],
 "metadata": {
  "kernelspec": {
   "display_name": "Python 3",
   "language": "python",
   "name": "python3"
  },
  "language_info": {
   "codemirror_mode": {
    "name": "ipython",
    "version": 2
   },
   "file_extension": ".py",
   "mimetype": "text/x-python",
   "name": "python",
   "nbconvert_exporter": "python",
   "pygments_lexer": "ipython2",
   "version": "2.7.6"
  }
 },
 "nbformat": 4,
 "nbformat_minor": 0
}