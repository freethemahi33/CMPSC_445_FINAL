{
 "cells": [
  {
   "cell_type": "code",
   "execution_count": null,
   "id": "a07865de-42ce-4a3e-b9d6-97717f905efe",
   "metadata": {
    "pycharm": {
     "name": "#%%\n"
    }
   },
   "outputs": [],
   "source": []
  },
  {
   "cell_type": "markdown",
   "id": "a763b4f3-f9b2-48fb-b964-03ba403364d6",
   "metadata": {
    "pycharm": {
     "name": "#%% md\n"
    }
   },
   "source": [
    "## AAC diamonds hw apr1 2023 "
   ]
  },
  {
   "cell_type": "code",
   "execution_count": 1,
   "id": "d8b85360-01e9-4b0f-a19c-287bc8b33719",
   "metadata": {
    "pycharm": {
     "name": "#%%\n"
    }
   },
   "outputs": [],
   "source": [
    "## README sun.apr.2.2023\n",
    "\n",
    "## PYTHON/2023/diamonds_apr23.ipynb\n"
   ]
  },
  {
   "cell_type": "code",
   "execution_count": 2,
   "id": "3d4b279c-4a21-4145-b4df-4eb1323f4997",
   "metadata": {
    "pycharm": {
     "name": "#%%\n"
    }
   },
   "outputs": [],
   "source": [
    "\n",
    "import mlxtend\n",
    "\n",
    "\n",
    "import numpy as np\n",
    "import matplotlib.pyplot as plt\n",
    "import pandas as pd\n",
    "import statistics\n",
    "np.set_printoptions(precision=3)\n",
    "\n",
    "np.set_printoptions(threshold=3)\n",
    "np.set_printoptions(suppress=True)\n",
    "\n",
    "\n",
    "# ERRORS --- ??? pd.options.display.float_format = '{:,2.f}'.format\n",
    "\n",
    "import matplotlib.pyplot as plt\n",
    "from scipy import stats\n",
    "\n",
    "from sklearn.linear_model import LogisticRegression\n",
    "import inspect\n"
   ]
  },
  {
   "cell_type": "code",
   "execution_count": 3,
   "id": "b3f55cea-36de-4304-bacc-5ae7298d2022",
   "metadata": {
    "pycharm": {
     "name": "#%%\n"
    }
   },
   "outputs": [
    {
     "name": "stdout",
     "output_type": "stream",
     "text": [
      "['Unnamed: 0', 'cut', 'color', 'clarity', 'carat_weight', 'cut_quality', 'lab', 'symmetry', 'polish', 'eye_clean', 'culet_size', 'culet_condition', 'depth_percent', 'table_percent', 'meas_length', 'meas_width', 'meas_depth', 'girdle_min', 'girdle_max', 'fluor_color', 'fluor_intensity', 'fancy_color_dominant_color', 'fancy_color_secondary_color', 'fancy_color_overtone', 'fancy_color_intensity', 'total_sales_price']\n"
     ]
    }
   ],
   "source": [
    "q = pd.read_csv('diamonds.csv')\n",
    "\n",
    "c = q.columns \n",
    "c = c.tolist()\n",
    "\n",
    "# c[0]='row_cntr_id'\n",
    "\n",
    "print(c)\n"
   ]
  },
  {
   "cell_type": "code",
   "execution_count": 4,
   "id": "ab912cdc-81af-49fa-857a-d550e69a8d62",
   "metadata": {
    "pycharm": {
     "name": "#%%\n"
    }
   },
   "outputs": [
    {
     "data": {
      "text/plain": "   Unnamed: 0    cut color clarity  carat_weight cut_quality  lab   symmetry  \\\n0           0  Round     E    VVS2          0.09   Excellent  IGI  Very Good   \n1           1  Round     E    VVS2          0.09   Very Good  IGI  Very Good   \n2           2  Round     E    VVS2          0.09   Excellent  IGI  Very Good   \n3           3  Round     E    VVS2          0.09   Excellent  IGI  Very Good   \n4           4  Round     E    VVS2          0.09   Very Good  IGI  Very Good   \n\n      polish eye_clean  ... meas_depth girdle_min  girdle_max  fluor_color  \\\n0  Very Good   unknown  ...       1.79          M           M      unknown   \n1  Very Good   unknown  ...       1.78        STK         STK      unknown   \n2  Very Good   unknown  ...       1.77         TN           M      unknown   \n3  Very Good   unknown  ...       1.78          M         STK      unknown   \n4  Excellent   unknown  ...       1.82        STK         STK      unknown   \n\n   fluor_intensity  fancy_color_dominant_color  fancy_color_secondary_color  \\\n0             None                     unknown                      unknown   \n1             None                     unknown                      unknown   \n2             None                     unknown                      unknown   \n3             None                     unknown                      unknown   \n4             None                     unknown                      unknown   \n\n  fancy_color_overtone fancy_color_intensity total_sales_price  \n0              unknown               unknown               200  \n1              unknown               unknown               200  \n2              unknown               unknown               200  \n3              unknown               unknown               200  \n4              unknown               unknown               200  \n\n[5 rows x 26 columns]",
      "text/html": "<div>\n<style scoped>\n    .dataframe tbody tr th:only-of-type {\n        vertical-align: middle;\n    }\n\n    .dataframe tbody tr th {\n        vertical-align: top;\n    }\n\n    .dataframe thead th {\n        text-align: right;\n    }\n</style>\n<table border=\"1\" class=\"dataframe\">\n  <thead>\n    <tr style=\"text-align: right;\">\n      <th></th>\n      <th>Unnamed: 0</th>\n      <th>cut</th>\n      <th>color</th>\n      <th>clarity</th>\n      <th>carat_weight</th>\n      <th>cut_quality</th>\n      <th>lab</th>\n      <th>symmetry</th>\n      <th>polish</th>\n      <th>eye_clean</th>\n      <th>...</th>\n      <th>meas_depth</th>\n      <th>girdle_min</th>\n      <th>girdle_max</th>\n      <th>fluor_color</th>\n      <th>fluor_intensity</th>\n      <th>fancy_color_dominant_color</th>\n      <th>fancy_color_secondary_color</th>\n      <th>fancy_color_overtone</th>\n      <th>fancy_color_intensity</th>\n      <th>total_sales_price</th>\n    </tr>\n  </thead>\n  <tbody>\n    <tr>\n      <th>0</th>\n      <td>0</td>\n      <td>Round</td>\n      <td>E</td>\n      <td>VVS2</td>\n      <td>0.09</td>\n      <td>Excellent</td>\n      <td>IGI</td>\n      <td>Very Good</td>\n      <td>Very Good</td>\n      <td>unknown</td>\n      <td>...</td>\n      <td>1.79</td>\n      <td>M</td>\n      <td>M</td>\n      <td>unknown</td>\n      <td>None</td>\n      <td>unknown</td>\n      <td>unknown</td>\n      <td>unknown</td>\n      <td>unknown</td>\n      <td>200</td>\n    </tr>\n    <tr>\n      <th>1</th>\n      <td>1</td>\n      <td>Round</td>\n      <td>E</td>\n      <td>VVS2</td>\n      <td>0.09</td>\n      <td>Very Good</td>\n      <td>IGI</td>\n      <td>Very Good</td>\n      <td>Very Good</td>\n      <td>unknown</td>\n      <td>...</td>\n      <td>1.78</td>\n      <td>STK</td>\n      <td>STK</td>\n      <td>unknown</td>\n      <td>None</td>\n      <td>unknown</td>\n      <td>unknown</td>\n      <td>unknown</td>\n      <td>unknown</td>\n      <td>200</td>\n    </tr>\n    <tr>\n      <th>2</th>\n      <td>2</td>\n      <td>Round</td>\n      <td>E</td>\n      <td>VVS2</td>\n      <td>0.09</td>\n      <td>Excellent</td>\n      <td>IGI</td>\n      <td>Very Good</td>\n      <td>Very Good</td>\n      <td>unknown</td>\n      <td>...</td>\n      <td>1.77</td>\n      <td>TN</td>\n      <td>M</td>\n      <td>unknown</td>\n      <td>None</td>\n      <td>unknown</td>\n      <td>unknown</td>\n      <td>unknown</td>\n      <td>unknown</td>\n      <td>200</td>\n    </tr>\n    <tr>\n      <th>3</th>\n      <td>3</td>\n      <td>Round</td>\n      <td>E</td>\n      <td>VVS2</td>\n      <td>0.09</td>\n      <td>Excellent</td>\n      <td>IGI</td>\n      <td>Very Good</td>\n      <td>Very Good</td>\n      <td>unknown</td>\n      <td>...</td>\n      <td>1.78</td>\n      <td>M</td>\n      <td>STK</td>\n      <td>unknown</td>\n      <td>None</td>\n      <td>unknown</td>\n      <td>unknown</td>\n      <td>unknown</td>\n      <td>unknown</td>\n      <td>200</td>\n    </tr>\n    <tr>\n      <th>4</th>\n      <td>4</td>\n      <td>Round</td>\n      <td>E</td>\n      <td>VVS2</td>\n      <td>0.09</td>\n      <td>Very Good</td>\n      <td>IGI</td>\n      <td>Very Good</td>\n      <td>Excellent</td>\n      <td>unknown</td>\n      <td>...</td>\n      <td>1.82</td>\n      <td>STK</td>\n      <td>STK</td>\n      <td>unknown</td>\n      <td>None</td>\n      <td>unknown</td>\n      <td>unknown</td>\n      <td>unknown</td>\n      <td>unknown</td>\n      <td>200</td>\n    </tr>\n  </tbody>\n</table>\n<p>5 rows × 26 columns</p>\n</div>"
     },
     "execution_count": 4,
     "metadata": {},
     "output_type": "execute_result"
    }
   ],
   "source": [
    "q.head()"
   ]
  },
  {
   "cell_type": "code",
   "execution_count": 5,
   "id": "14f03aef-dde2-4d0d-b5ba-a25255914fd8",
   "metadata": {
    "pycharm": {
     "name": "#%%\n"
    }
   },
   "outputs": [
    {
     "name": "stdout",
     "output_type": "stream",
     "text": [
      "['Unnamed: 0', 'cut', 'color', 'clarity', 'carat_weight', 'cut_quality', 'lab', 'symmetry', 'polish', 'eye_clean', 'culet_size', 'culet_condition', 'depth_percent', 'table_percent', 'meas_length', 'meas_width', 'meas_depth', 'girdle_min', 'girdle_max', 'fluor_color', 'fluor_intensity', 'fancy_color_dominant_color', 'fancy_color_secondary_color', 'fancy_color_overtone', 'fancy_color_intensity', 'total_sales_price']\n"
     ]
    }
   ],
   "source": [
    " \n",
    "print(c)\n"
   ]
  },
  {
   "cell_type": "code",
   "execution_count": 6,
   "id": "d6ba5575-bc35-4b0b-aac1-fd9f82ff102e",
   "metadata": {
    "pycharm": {
     "name": "#%%\n"
    }
   },
   "outputs": [
    {
     "ename": "TypeError",
     "evalue": "unhashable type: 'list'",
     "output_type": "error",
     "traceback": [
      "\u001B[0;31m---------------------------------------------------------------------------\u001B[0m",
      "\u001B[0;31mTypeError\u001B[0m                                 Traceback (most recent call last)",
      "Input \u001B[0;32mIn [6]\u001B[0m, in \u001B[0;36m<cell line: 2>\u001B[0;34m()\u001B[0m\n\u001B[1;32m      3\u001B[0m     uniq_cnt \u001B[38;5;241m=\u001B[39m q[c]\u001B[38;5;241m.\u001B[39mnunique()\n\u001B[1;32m      4\u001B[0m     \u001B[38;5;66;03m# print(i, uniq_cnt)\u001B[39;00m\n\u001B[0;32m----> 5\u001B[0m     var_dist_cnts[c]\u001B[38;5;241m=\u001B[39muniq_cnt\n\u001B[1;32m      7\u001B[0m \u001B[38;5;28mprint\u001B[39m(var_dist_cnts)\n",
      "\u001B[0;31mTypeError\u001B[0m: unhashable type: 'list'"
     ]
    }
   ],
   "source": [
    "\n",
    "var_dist_cnts = {}\n",
    "for i in c:\n",
    "    uniq_cnt = q[c].nunique()\n",
    "    # print(i, uniq_cnt)\n",
    "    var_dist_cnts[c]=uniq_cnt\n",
    "    \n",
    "print(var_dist_cnts)"
   ]
  },
  {
   "cell_type": "markdown",
   "id": "e6425f77-4ef1-4df6-85a6-ddaee44c35c5",
   "metadata": {
    "pycharm": {
     "name": "#%% md\n"
    }
   },
   "source": [
    "# which vars are candidates \n",
    "# there are 219702 rows\n"
   ]
  },
  {
   "cell_type": "code",
   "execution_count": null,
   "id": "81840f50-084a-4f21-b33a-cb2439269a84",
   "metadata": {
    "pycharm": {
     "name": "#%%\n"
    }
   },
   "outputs": [],
   "source": [
    "c=q.columns\n",
    "var_dist_cnts = {}\n",
    "for i in c:\n",
    "    uniq_cnt = q[c].nunique()\n",
    "    # print(i, uniq_cnt)\n",
    "    var_dist_cnts[c]=uniq_cnt\n",
    "    \n",
    "print(var_dist_cnts)"
   ]
  },
  {
   "cell_type": "markdown",
   "id": "0b3660c4-93d0-4e63-9bad-2dcb52d52dcd",
   "metadata": {
    "pycharm": {
     "name": "#%% md\n"
    }
   },
   "source": [
    "# show dist value counts "
   ]
  },
  {
   "cell_type": "code",
   "execution_count": null,
   "id": "e7dfa7f0-1a75-4c66-98d3-ace757e85494",
   "metadata": {
    "pycharm": {
     "name": "#%%\n"
    }
   },
   "outputs": [],
   "source": [
    "c=q.columns\n",
    "var_dist_cnts = {}\n",
    "for i in c:\n",
    "    print(i , ' : ', q[i].value_counts().count())"
   ]
  },
  {
   "cell_type": "code",
   "execution_count": null,
   "id": "952ca0c3-8c95-4e2d-9826-7979863b4cbf",
   "metadata": {
    "pycharm": {
     "name": "#%%\n"
    }
   },
   "outputs": [],
   "source": [
    "# c=q.columns\n",
    "# var_dist_cnts = {}\n",
    "# for i in c:\n",
    "#     uniq_cnt = q[c].nunique()\n",
    "#     # print(i, uniq_cnt)\n",
    "#     var_dist_cnts[c]=uniq_cnt\n",
    "    \n",
    "# print(var_dist_cnts)"
   ]
  },
  {
   "cell_type": "markdown",
   "id": "b1589e70-9432-4303-b717-e1b0cc33ce5f",
   "metadata": {
    "pycharm": {
     "name": "#%% md\n"
    }
   },
   "source": [
    " \n",
    " # 3) MAKE LISTS"
   ]
  },
  {
   "cell_type": "code",
   "execution_count": null,
   "id": "29d685e8-13c5-440d-b1ec-92eb77f025b6",
   "metadata": {
    "pycharm": {
     "name": "#%%\n"
    }
   },
   "outputs": [],
   "source": [
    "\n",
    "target = ['total_sales_price']\n",
    "\n",
    "list_o_cats=['cut','color','cut_quality','lab','symmetry','polish','eye_clean',\n",
    "             'culet_size','culet_condition']\n",
    "\n",
    "list_o_conts = ['carat_weight','depth_percent','table_percent']\n",
    "\n"
   ]
  },
  {
   "cell_type": "markdown",
   "id": "0a90fc3e-a9cf-4856-939d-8842c0765ecc",
   "metadata": {
    "pycharm": {
     "name": "#%% md\n"
    }
   },
   "source": [
    "# 4) address Missings \n",
    "\n",
    "## 219703 on target, no missings, \n",
    "## 219703 is also shape \n",
    "## how can this be "
   ]
  },
  {
   "cell_type": "code",
   "execution_count": null,
   "id": "4b81b328-ecc0-45d8-9f98-26a8f76f6671",
   "metadata": {
    "pycharm": {
     "name": "#%%\n"
    }
   },
   "outputs": [],
   "source": [
    "q[list_o_cats].isnull().sum()\n"
   ]
  },
  {
   "cell_type": "markdown",
   "id": "2bd71bc1-6fdd-48b7-a5c9-73954344cf72",
   "metadata": {
    "pycharm": {
     "name": "#%% md\n"
    }
   },
   "source": [
    "## TARGET Eval"
   ]
  },
  {
   "cell_type": "code",
   "execution_count": null,
   "id": "5502f9d5-0e05-48b6-99c9-05864559c822",
   "metadata": {
    "pycharm": {
     "name": "#%%\n"
    }
   },
   "outputs": [],
   "source": [
    "\n",
    "pd.set_option('display.float_format', lambda x: '%.5f' % x)\n",
    "\n",
    "\n",
    "q[target].describe()"
   ]
  },
  {
   "cell_type": "code",
   "execution_count": null,
   "id": "66d3201d-7690-4f3c-a743-d0f794403416",
   "metadata": {
    "pycharm": {
     "name": "#%%\n"
    }
   },
   "outputs": [],
   "source": [
    "q.shape"
   ]
  },
  {
   "cell_type": "markdown",
   "id": "f75b3385-dbea-4c0d-a498-22b0801e77c1",
   "metadata": {
    "pycharm": {
     "name": "#%% md\n"
    }
   },
   "source": [
    "## verify cats "
   ]
  },
  {
   "cell_type": "code",
   "execution_count": null,
   "id": "00fad0f2-e070-41ff-8800-494e286651f5",
   "metadata": {
    "pycharm": {
     "name": "#%%\n"
    }
   },
   "outputs": [],
   "source": [
    "q[list_o_conts].nunique()\n",
    "q[list_o_cats].nunique()\n"
   ]
  },
  {
   "cell_type": "markdown",
   "id": "725c4528-764e-407d-9ada-171fc51cf3e4",
   "metadata": {
    "pycharm": {
     "name": "#%% md\n"
    }
   },
   "source": [
    "## look at each cat, values, & cnt of records in that category  "
   ]
  },
  {
   "cell_type": "markdown",
   "id": "bebb334b-8385-45cd-a691-23e626a0935d",
   "metadata": {
    "pycharm": {
     "name": "#%% md\n"
    }
   },
   "source": [
    "## NOTE : drop the cat if count is lt 100 (example: color quality)"
   ]
  },
  {
   "cell_type": "code",
   "execution_count": null,
   "id": "cd450b2f-3412-46a4-b872-f4f53423fb93",
   "metadata": {
    "pycharm": {
     "name": "#%%\n"
    }
   },
   "outputs": [],
   "source": [
    "for i in list_o_cats[:3]:\n",
    "    print(i , ' : ', q[i].value_counts(dropna=False))"
   ]
  },
  {
   "cell_type": "markdown",
   "id": "a504d426-bb92-454e-b35f-095c6bcb7ef6",
   "metadata": {
    "pycharm": {
     "name": "#%% md\n"
    }
   },
   "source": [
    "# 4) SHOW DUMMIES"
   ]
  },
  {
   "cell_type": "code",
   "execution_count": null,
   "id": "66258c17-8980-40ce-bcd7-5f8b02f51144",
   "metadata": {
    "pycharm": {
     "name": "#%%\n"
    }
   },
   "outputs": [],
   "source": [
    "\n",
    "\n",
    "\n",
    "for i in q[list_o_cats[:3]] : \n",
    "    print(i)\n",
    "    display( pd.get_dummies(q[i]))\n",
    "    "
   ]
  },
  {
   "cell_type": "markdown",
   "id": "07ee06fc-b29f-44eb-ad54-02161bcaf79f",
   "metadata": {
    "pycharm": {
     "name": "#%% md\n"
    }
   },
   "source": [
    "# 5) Make TARGET + DUMMY BINS final DF  "
   ]
  },
  {
   "cell_type": "markdown",
   "id": "b306c942-5f55-4dec-877c-d287db85b7e4",
   "metadata": {
    "pycharm": {
     "name": "#%% md\n"
    }
   },
   "source": [
    "\n",
    "\n",
    "# BUSTED --- good and other vars appear more than once \n",
    "\n"
   ]
  },
  {
   "cell_type": "code",
   "execution_count": null,
   "id": "71437803-f400-4004-a09f-ecb66546f62f",
   "metadata": {
    "pycharm": {
     "name": "#%%\n"
    }
   },
   "outputs": [],
   "source": [
    "\n",
    "q2 = q[target]\n",
    "print('s 1: ', q2.shape)\n",
    "\n",
    "for i in list_o_cats: \n",
    "    t = pd.get_dummies(q[i])\n",
    "    t = t.add_prefix(i+'__')\n",
    "    q2 = pd.concat([q2,t], axis=1) \n",
    "    # print(q2.columns)\n",
    "    print(q2.shape)"
   ]
  },
  {
   "cell_type": "code",
   "execution_count": null,
   "id": "87c77ef7-8163-4681-91c3-37b6c5c5faaa",
   "metadata": {
    "pycharm": {
     "name": "#%%\n"
    }
   },
   "outputs": [],
   "source": [
    "\n",
    "q2.columns\n",
    "# q2['Excellent'].value_counts()"
   ]
  },
  {
   "cell_type": "code",
   "execution_count": null,
   "id": "f7bcbd50-9346-407b-8851-70cfdf9c9267",
   "metadata": {
    "pycharm": {
     "name": "#%%\n"
    }
   },
   "outputs": [],
   "source": [
    "q2.describe().T"
   ]
  },
  {
   "cell_type": "markdown",
   "id": "06cd33bb-42b6-441b-a536-eacf7065f49a",
   "metadata": {
    "pycharm": {
     "name": "#%% md\n"
    }
   },
   "source": [
    "# 10) OLS "
   ]
  },
  {
   "cell_type": "markdown",
   "id": "6a09ef83-5873-4a32-a220-327f9342ed50",
   "metadata": {
    "pycharm": {
     "name": "#%% md\n"
    }
   },
   "source": [
    "# RANDOM 50 SPLIT "
   ]
  },
  {
   "cell_type": "code",
   "execution_count": null,
   "id": "b0b128e2-0f99-46f8-9ba9-232f4bb7727c",
   "metadata": {
    "pycharm": {
     "name": "#%%\n"
    }
   },
   "outputs": [],
   "source": [
    "q2['random']=np.random.randn(len(q2))\n",
    "\n",
    "\n",
    "q2['split_flag'] = (np.random.rand(len(q2)) < 0.5)*1\n",
    "\n",
    "q2['split_flag'].value_counts()"
   ]
  },
  {
   "cell_type": "code",
   "execution_count": null,
   "id": "c3a0d1e9-bf22-420c-8178-7c0501cb5ce7",
   "metadata": {
    "pycharm": {
     "name": "#%%\n"
    }
   },
   "outputs": [],
   "source": [
    " \n",
    "# q2[['symmetry__Excellent','cut_quality__Excellent']].value_counts()   \n",
    "\n",
    "# q2.groupby([['symmetry__Excellent','cut_quality__Excellent']]'total_sales_price'\n",
    "\n",
    "gs = ['symmetry__Excellent','cut_quality__Excellent']\n",
    "\n",
    "q2.groupby(gs).mean()\n",
    "\n"
   ]
  },
  {
   "cell_type": "code",
   "execution_count": null,
   "id": "d6d42408-2cbf-4114-9ea0-b3b4da1c6a3a",
   "metadata": {
    "pycharm": {
     "name": "#%%\n"
    }
   },
   "outputs": [],
   "source": [
    "\n",
    "\n",
    "y = q2['total_sales_price']\n",
    "\n",
    "pred_list =['cut__Asscher', 'cut__Cushion',\n",
    "       'cut__Cushion Modified', 'cut__Emerald', 'cut__Heart', 'cut__Marquise',\n",
    "       'cut__Oval', 'cut__Pear', 'cut__Princess', 'cut__Radiant', 'cut__Round',\n",
    "       'color__D', 'color__E', 'color__F', 'color__G', 'color__H', 'color__I',\n",
    "       'color__J', 'color__K', 'color__L', 'color__M', 'color__unknown',\n",
    "       'cut_quality__Excellent', 'cut_quality__Fair', 'cut_quality__Good',\n",
    "       'cut_quality__Ideal', 'cut_quality__Very Good', 'cut_quality__unknown',\n",
    "       'lab__GIA', 'lab__HRD', 'lab__IGI', 'symmetry__Excellent',\n",
    "       'symmetry__Fair', 'symmetry__Good', 'symmetry__Poor',\n",
    "       'symmetry__Very Good', 'polish__Excellent', 'polish__Fair',\n",
    "       'polish__Good', 'polish__Poor', 'polish__Very Good',\n",
    "       'eye_clean__Borderline', 'eye_clean__E1', 'eye_clean__No',\n",
    "       'eye_clean__Yes', 'eye_clean__unknown', 'culet_size__EL',\n",
    "       'culet_size__L', 'culet_size__M', 'culet_size__N', 'culet_size__S',\n",
    "       'culet_size__SL', 'culet_size__VL', 'culet_size__VS',\n",
    "       'culet_size__unknown', 'culet_condition__Abraded',\n",
    "       'culet_condition__Chipped', 'culet_condition__Pointed',\n",
    "       'culet_condition__unknown']\n",
    "\n",
    "X=q2[pred_list]\n",
    "\n",
    "X2= q2[pred_list[:5]]\n"
   ]
  },
  {
   "cell_type": "code",
   "execution_count": null,
   "id": "5c16ebff-0876-4b97-a72b-26f1be7d3b68",
   "metadata": {
    "pycharm": {
     "name": "#%%\n"
    }
   },
   "outputs": [],
   "source": [
    "y"
   ]
  },
  {
   "cell_type": "markdown",
   "id": "32350fba-367d-44ff-a0a2-031a1559dcee",
   "metadata": {
    "pycharm": {
     "name": "#%% md\n"
    }
   },
   "source": [
    "# 5) OLS"
   ]
  },
  {
   "cell_type": "code",
   "execution_count": null,
   "id": "45a7c331-d7ef-4cc8-bde1-81778470e327",
   "metadata": {
    "pycharm": {
     "name": "#%%\n"
    }
   },
   "outputs": [],
   "source": [
    "import numpy as np\n",
    "from sklearn.linear_model import LinearRegression\n",
    "from sklearn.preprocessing import PolynomialFeatures"
   ]
  },
  {
   "cell_type": "code",
   "execution_count": null,
   "id": "6e3cbce1-592f-4348-ad7e-ca2546741f6f",
   "metadata": {
    "pycharm": {
     "name": "#%%\n"
    }
   },
   "outputs": [],
   "source": []
  },
  {
   "cell_type": "code",
   "execution_count": null,
   "id": "aa60c98e-62d4-4bee-a9d7-09540976cf1e",
   "metadata": {
    "pycharm": {
     "name": "#%%\n"
    }
   },
   "outputs": [],
   "source": [
    "\n",
    "\n",
    "\n",
    "X2= q2[pred_list[:100]]\n",
    "\n",
    "\n",
    "model = LinearRegression().fit(X2,y)\n",
    "\n",
    "q2['pred_y'] = model.predict(X2)\n",
    "\n"
   ]
  },
  {
   "cell_type": "markdown",
   "id": "d8e35c4a-64a5-48e1-98de-9bd038734c53",
   "metadata": {
    "pycharm": {
     "name": "#%% md\n"
    }
   },
   "source": [
    "# "
   ]
  },
  {
   "cell_type": "code",
   "execution_count": null,
   "id": "5eff8694-7982-4e08-a3de-c4fb8ff1e461",
   "metadata": {
    "pycharm": {
     "name": "#%%\n"
    }
   },
   "outputs": [],
   "source": [
    "p_list = ['y','pred_y']\n",
    "\n",
    "q2[p_list].corr()\n",
    "\n",
    "q2[p_list].describe()"
   ]
  },
  {
   "cell_type": "code",
   "execution_count": null,
   "id": "cd49b0b7-1ce4-44dd-af9f-9b499b41f743",
   "metadata": {
    "pycharm": {
     "name": "#%%\n"
    }
   },
   "outputs": [],
   "source": []
  },
  {
   "cell_type": "code",
   "execution_count": null,
   "id": "9ce18550-f66f-498a-9a26-f82763cc3511",
   "metadata": {
    "pycharm": {
     "name": "#%%\n"
    }
   },
   "outputs": [],
   "source": []
  },
  {
   "cell_type": "code",
   "execution_count": null,
   "id": "8d4afefe-3ce9-4286-bac0-fed3782d9a2a",
   "metadata": {
    "pycharm": {
     "name": "#%%\n"
    }
   },
   "outputs": [],
   "source": [
    "import seaborn as sns; sns.set_theme(color_codes=True)\n",
    "\n",
    "\n",
    "ax = sns.regplot(x=q2['y'], y=q2['pred_y'], order = 1 , data=q2)\n",
    "# ax = sns.regplot(x=q2['y'], y=q2['pred_y'], order = 2 , data=q2)"
   ]
  },
  {
   "cell_type": "code",
   "execution_count": null,
   "id": "eacab127-ced2-4551-b3bf-7d5a2a7b8779",
   "metadata": {
    "pycharm": {
     "name": "#%%\n"
    }
   },
   "outputs": [],
   "source": []
  },
  {
   "cell_type": "code",
   "execution_count": null,
   "id": "9bc0c411-89e9-49a7-b96f-53fa8ea99189",
   "metadata": {
    "pycharm": {
     "name": "#%%\n"
    }
   },
   "outputs": [],
   "source": [
    "type(X)"
   ]
  },
  {
   "cell_type": "markdown",
   "id": "d6f3f8d7-fb65-4b08-84a0-508a3b1a345a",
   "metadata": {
    "pycharm": {
     "name": "#%% md\n"
    }
   },
   "source": [
    "# 5) Review final target & bins "
   ]
  },
  {
   "cell_type": "code",
   "execution_count": null,
   "id": "3ade7c2e-5277-4f21-91a4-73a49bf4c73c",
   "metadata": {
    "pycharm": {
     "name": "#%%\n"
    }
   },
   "outputs": [],
   "source": [
    "\n",
    "q2.sum().sort_values()\n",
    "# \"${:,.2f}\".format\n",
    "# looks good : d = q2.describe().T\n",
    "# d"
   ]
  },
  {
   "cell_type": "code",
   "execution_count": null,
   "id": "e9ff2ac9-8876-447d-9c75-9ffa5ca58338",
   "metadata": {
    "pycharm": {
     "name": "#%%\n"
    }
   },
   "outputs": [],
   "source": [
    "d.sort_values('mean')"
   ]
  },
  {
   "cell_type": "code",
   "execution_count": null,
   "id": "9d0422a0-c58a-4f79-a9b9-157fa0837fea",
   "metadata": {
    "pycharm": {
     "name": "#%%\n"
    }
   },
   "outputs": [],
   "source": []
  },
  {
   "cell_type": "code",
   "execution_count": null,
   "id": "7adbc111-82e2-49f9-a9f7-5ac56972d057",
   "metadata": {
    "pycharm": {
     "name": "#%%\n"
    }
   },
   "outputs": [],
   "source": [
    "q2.head(100)"
   ]
  },
  {
   "cell_type": "code",
   "execution_count": null,
   "id": "e0dc55e7-7fbd-48f3-add6-64ce16334a31",
   "metadata": {
    "pycharm": {
     "name": "#%%\n"
    }
   },
   "outputs": [],
   "source": [
    "\n",
    "\n",
    " \n",
    "print(q.columns)\n",
    "c  = q.columns\n",
    "# q = q.drop(['clarity'], axis=1)\n",
    "# ,16:25]\n",
    "for i in c:\n",
    "    display(q[i].value_counts())\n",
    "    \n",
    "    \n",
    "# pd.get_dummies(\n",
    "\n",
    "df_one = pd.get_dummies(q[\"cut\"])\n",
    "\n",
    "c\n",
    "\n",
    "# print(df_one)"
   ]
  },
  {
   "cell_type": "code",
   "execution_count": null,
   "id": "f00e7d80-5118-4e1b-a210-aa2cfbf11a70",
   "metadata": {
    "pycharm": {
     "name": "#%%\n"
    }
   },
   "outputs": [],
   "source": [
    " "
   ]
  },
  {
   "cell_type": "code",
   "execution_count": null,
   "id": "9584b385-6ae7-42e3-b812-137be783ca3c",
   "metadata": {
    "pycharm": {
     "name": "#%%\n"
    }
   },
   "outputs": [],
   "source": [
    "q.columns"
   ]
  },
  {
   "cell_type": "markdown",
   "id": "25ee13e3-4853-4dca-9954-08f91e2fa00f",
   "metadata": {
    "pycharm": {
     "name": "#%% md\n"
    }
   },
   "source": [
    "# make Dummies"
   ]
  },
  {
   "cell_type": "code",
   "execution_count": null,
   "id": "c7f335ff-b941-4897-ac77-21d425795ab7",
   "metadata": {
    "pycharm": {
     "name": "#%%\n"
    }
   },
   "outputs": [],
   "source": [
    "import pandas as pd\n",
    " \n",
    "# assign data\n",
    "data = [[\"Jagroop\", \"Male\"], [\"Praveen\", \"Male\"],\n",
    "        [\"Harjot\", \"Female\"], [\"Pooja\", \"Female\"],\n",
    "        [\"Mohit\", \"Male\"]]\n",
    " \n",
    "# display categorical output\n",
    "data_frame = pd.DataFrame(data, columns=[\"Name\", \"Gender\"])\n",
    "print(data_frame)\n",
    " \n",
    "# converting to binary data\n",
    "df_one = pd.get_dummies(data_frame[\"Gender\"])\n",
    "print(df_one)"
   ]
  },
  {
   "cell_type": "markdown",
   "id": "fc32df69-0560-4bf3-ab05-456805cc6a0f",
   "metadata": {
    "pycharm": {
     "name": "#%% md\n"
    }
   },
   "source": [
    "## Target"
   ]
  },
  {
   "cell_type": "code",
   "execution_count": null,
   "id": "9de25c1c-4561-48ba-b8e7-a1361aa5eb82",
   "metadata": {
    "pycharm": {
     "name": "#%%\n"
    }
   },
   "outputs": [],
   "source": [
    "q['total_sales_price'].value_counts()\n"
   ]
  },
  {
   "cell_type": "code",
   "execution_count": null,
   "id": "79ccf570-feca-40d5-9550-45ef480c4c95",
   "metadata": {
    "pycharm": {
     "name": "#%%\n"
    }
   },
   "outputs": [],
   "source": [
    "c = q.columns\n",
    "for i in c: \n",
    "    print(i)\n"
   ]
  },
  {
   "cell_type": "code",
   "execution_count": null,
   "id": "73ad1f0e-8255-463a-97d3-156b40f66564",
   "metadata": {
    "pycharm": {
     "name": "#%%\n"
    }
   },
   "outputs": [],
   "source": [
    "q.head()"
   ]
  },
  {
   "cell_type": "code",
   "execution_count": null,
   "id": "68f4ed9e-366f-4860-b06a-f1b7e19016a0",
   "metadata": {
    "pycharm": {
     "name": "#%%\n"
    }
   },
   "outputs": [],
   "source": []
  }
 ],
 "metadata": {
  "kernelspec": {
   "display_name": "Python 3 (ipykernel)",
   "language": "python",
   "name": "python3"
  },
  "language_info": {
   "codemirror_mode": {
    "name": "ipython",
    "version": 3
   },
   "file_extension": ".py",
   "mimetype": "text/x-python",
   "name": "python",
   "nbconvert_exporter": "python",
   "pygments_lexer": "ipython3",
   "version": "3.9.7"
  }
 },
 "nbformat": 4,
 "nbformat_minor": 5
}